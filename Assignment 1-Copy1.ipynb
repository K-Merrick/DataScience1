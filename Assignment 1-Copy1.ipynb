{
 "cells": [
  {
   "cell_type": "markdown",
   "metadata": {},
   "source": [
    "# Review\n",
    "Hi, Kevin. My name is Roman and I`m going to review your project.\n",
    "\n",
    "You can find my comments in colored boxes like this:\n",
    "\n",
    "<div class=\"alert alert-success\">\n",
    "    If everything is done succesfully.\n",
    "</div>\n",
    "\n",
    "<div class=\"alert alert-info\">\n",
    "    If I have some (optional) suggestions, or questions to think about, or general comments.\n",
    "</div>\n",
    "\n",
    "<div class=\"alert alert-danger\">\n",
    "    If a section requires some corrections. Work can't be accepted with red comments.\n",
    "</div>\n",
    "\n",
    "Please don't delete my comments. Great if you choose **<font color=\"orange\">visible color</font>**  or **text format** for your comments - It's easier for us to follow the corrections.\n",
    "\n",
    "### <font color=\"orange\">**Summary:**</font>  \n",
    "Thank you for sending your project. You've done a really good job on it!   \n",
    "Your project is impressive.  \n",
    "All done! Congrats!  \n",
    "I wish you good luck to the next projects"
   ]
  },
  {
   "cell_type": "markdown",
   "metadata": {},
   "source": [
    "## Analyzing borrowers’ risk of defaulting\n",
    "\n",
    "Your project is to prepare a report for a bank’s loan division. You’ll need to find out if a customer’s marital status and number of children has an impact on whether they will default on a loan. The bank already has some data on customers’ credit worthiness.\n",
    "\n",
    "Your report will be considered when building a **credit scoring** of a potential customer. A ** credit scoring ** is used to evaluate the ability of a potential borrower to repay their loan."
   ]
  },
  {
   "cell_type": "markdown",
   "metadata": {},
   "source": [
    "### Step 1. Open the data file and have a look at the general information. "
   ]
  },
  {
   "cell_type": "code",
   "execution_count": 1,
   "metadata": {
    "scrolled": true
   },
   "outputs": [
    {
     "name": "stdout",
     "output_type": "stream",
     "text": [
      "\n",
      " Information About DataFrame\n",
      "\n",
      "<class 'pandas.core.frame.DataFrame'>\n",
      "RangeIndex: 21525 entries, 0 to 21524\n",
      "Data columns (total 12 columns):\n",
      " #   Column            Non-Null Count  Dtype  \n",
      "---  ------            --------------  -----  \n",
      " 0   children          21525 non-null  int64  \n",
      " 1   days_employed     19351 non-null  float64\n",
      " 2   dob_years         21525 non-null  int64  \n",
      " 3   education         21525 non-null  object \n",
      " 4   education_id      21525 non-null  int64  \n",
      " 5   family_status     21525 non-null  object \n",
      " 6   family_status_id  21525 non-null  int64  \n",
      " 7   gender            21525 non-null  object \n",
      " 8   income_type       21525 non-null  object \n",
      " 9   debt              21525 non-null  int64  \n",
      " 10  total_income      19351 non-null  float64\n",
      " 11  purpose           21525 non-null  object \n",
      "dtypes: float64(2), int64(5), object(5)\n",
      "memory usage: 2.0+ MB\n",
      "\n",
      " First 30 Rows of Dataframe\n",
      "\n",
      "    children  days_employed  dob_years            education  education_id  \\\n",
      "0          1   -8437.673028         42    bachelor's degree             0   \n",
      "1          1   -4024.803754         36  secondary education             1   \n",
      "2          0   -5623.422610         33  Secondary Education             1   \n",
      "3          3   -4124.747207         32  secondary education             1   \n",
      "4          0  340266.072047         53  secondary education             1   \n",
      "5          0    -926.185831         27    bachelor's degree             0   \n",
      "6          0   -2879.202052         43    bachelor's degree             0   \n",
      "7          0    -152.779569         50  SECONDARY EDUCATION             1   \n",
      "8          2   -6929.865299         35    BACHELOR'S DEGREE             0   \n",
      "9          0   -2188.756445         41  secondary education             1   \n",
      "10         2   -4171.483647         36    bachelor's degree             0   \n",
      "11         0    -792.701887         40  secondary education             1   \n",
      "12         0            NaN         65  secondary education             1   \n",
      "13         0   -1846.641941         54         some college             2   \n",
      "14         0   -1844.956182         56    bachelor's degree             0   \n",
      "15         1    -972.364419         26  secondary education             1   \n",
      "16         0   -1719.934226         35  secondary education             1   \n",
      "17         0   -2369.999720         33    bachelor's degree             0   \n",
      "18         0  400281.136913         53  secondary education             1   \n",
      "19         0  -10038.818549         48  SECONDARY EDUCATION             1   \n",
      "20         1   -1311.604166         36  secondary education             1   \n",
      "21         1    -253.685166         33  secondary education             1   \n",
      "22         1   -1766.644138         24  secondary education             1   \n",
      "23         0    -272.981385         21    bachelor's degree             0   \n",
      "24         1  338551.952911         57  secondary education             1   \n",
      "25         0  363548.489348         67  secondary education             1   \n",
      "26         0            NaN         41  secondary education             1   \n",
      "27         0    -529.191635         28    bachelor's degree             0   \n",
      "28         1    -717.274324         26    bachelor's degree             0   \n",
      "29         0            NaN         63  secondary education             1   \n",
      "\n",
      "        family_status  family_status_id gender    income_type  debt  \\\n",
      "0             married                 0      F       employee     0   \n",
      "1             married                 0      F       employee     0   \n",
      "2             married                 0      M       employee     0   \n",
      "3             married                 0      M       employee     0   \n",
      "4   civil partnership                 1      F        retiree     0   \n",
      "5   civil partnership                 1      M       business     0   \n",
      "6             married                 0      F       business     0   \n",
      "7             married                 0      M       employee     0   \n",
      "8   civil partnership                 1      F       employee     0   \n",
      "9             married                 0      M       employee     0   \n",
      "10            married                 0      M       business     0   \n",
      "11            married                 0      F       employee     0   \n",
      "12  civil partnership                 1      M        retiree     0   \n",
      "13            married                 0      F       employee     0   \n",
      "14  civil partnership                 1      F       business     1   \n",
      "15            married                 0      F       employee     0   \n",
      "16            married                 0      F       employee     0   \n",
      "17  civil partnership                 1      M       employee     0   \n",
      "18    widow / widower                 2      F        retiree     0   \n",
      "19           divorced                 3      F       employee     0   \n",
      "20            married                 0      M       employee     0   \n",
      "21  civil partnership                 1      F       employee     0   \n",
      "22  civil partnership                 1      F       employee     0   \n",
      "23  civil partnership                 1      M       employee     0   \n",
      "24          unmarried                 4      F        retiree     0   \n",
      "25            married                 0      M        retiree     0   \n",
      "26            married                 0      M  civil servant     0   \n",
      "27            married                 0      M       employee     0   \n",
      "28            married                 0      F       employee     0   \n",
      "29          unmarried                 4      F        retiree     0   \n",
      "\n",
      "    total_income                                   purpose  \n",
      "0      40620.102                     purchase of the house  \n",
      "1      17932.802                              car purchase  \n",
      "2      23341.752                     purchase of the house  \n",
      "3      42820.568                   supplementary education  \n",
      "4      25378.572                         to have a wedding  \n",
      "5      40922.170                     purchase of the house  \n",
      "6      38484.156                      housing transactions  \n",
      "7      21731.829                                 education  \n",
      "8      15337.093                          having a wedding  \n",
      "9      23108.150       purchase of the house for my family  \n",
      "10     18230.959                           buy real estate  \n",
      "11     12331.077                buy commercial real estate  \n",
      "12           NaN                         to have a wedding  \n",
      "13     20873.317                              car purchase  \n",
      "14     26420.466               buy residential real estate  \n",
      "15     18691.345              construction of own property  \n",
      "16     46272.433                                  property  \n",
      "17     14465.694                       building a property  \n",
      "18      9091.804                  buying a second-hand car  \n",
      "19     38852.977                         buying my own car  \n",
      "20     33528.423                                  property  \n",
      "21     21089.953                              car purchase  \n",
      "22     23948.983                  buying a second-hand car  \n",
      "23     20522.515                         to have a wedding  \n",
      "24     46487.558  transactions with commercial real estate  \n",
      "25      8818.041                           buy real estate  \n",
      "26           NaN                                 education  \n",
      "27     49415.837              construction of own property  \n",
      "28     30058.118              construction of own property  \n",
      "29           NaN                    building a real estate  \n"
     ]
    }
   ],
   "source": [
    "import pandas as pd\n",
    "credit_score_info = pd.read_csv('credit_scoring_eng.csv')\n",
    "print(\"\\n Information About DataFrame\\n\")\n",
    "credit_score_info.info()\n",
    "print(\"\\n First 30 Rows of Dataframe\\n\")\n",
    "print(credit_score_info.head(30))\n",
    "\n",
    "#Print columns for retired individuals to see if days_employed is positive.\n",
    "#print(credit_score_info.loc[credit_score_info['income_type'] != 'retiree'].head(30))\n",
    "\n",
    "#print(credit_score_info.head(10))\n"
   ]
  },
  {
   "cell_type": "markdown",
   "metadata": {},
   "source": [
    "### Conclusion"
   ]
  },
  {
   "cell_type": "markdown",
   "metadata": {},
   "source": [
    "There are 12 columns in this DataFrame, 2 with float64 values, 5 with int64 values, and 5 with non-null objects. Four of the columns have quantitative variables (i.e., children, days_employed, dob_years, and total_income). Confusingly, days_employed seems to show negative values for most individuals in the sample; however, I noticed that the individual at index 4, who is retired, has a positive value. I ran a code that shows me the top 30 results for retired individuals and found out that they all have days_employed values that are positive. As such, my assumption is that day_employed is negative for those employed and positive for those not currently employed. I will decide how to deal with this data in the next section.\n"
   ]
  },
  {
   "cell_type": "markdown",
   "metadata": {},
   "source": [
    "<div class=\"alert alert-success\">\n",
    "\n",
    "### Comment\n",
    "\n",
    "Good job in start!  \n",
    "Your conclusion looks realy nice!  \n",
    "</div>"
   ]
  },
  {
   "cell_type": "markdown",
   "metadata": {},
   "source": [
    "### Step 2. Data preprocessing"
   ]
  },
  {
   "cell_type": "markdown",
   "metadata": {},
   "source": [
    "### Processing missing values"
   ]
  },
  {
   "cell_type": "code",
   "execution_count": 2,
   "metadata": {},
   "outputs": [
    {
     "name": "stdout",
     "output_type": "stream",
     "text": [
      "\n",
      "Initial sum of null values\n",
      "\n",
      "children               0\n",
      "days_employed       2174\n",
      "dob_years              0\n",
      "education              0\n",
      "education_id           0\n",
      "family_status          0\n",
      "family_status_id       0\n",
      "gender                 0\n",
      "income_type            0\n",
      "debt                   0\n",
      "total_income        2174\n",
      "purpose                0\n",
      "dtype: int64\n"
     ]
    }
   ],
   "source": [
    "print(\"\\nInitial sum of null values\\n\")\n",
    "print(credit_score_info.isnull().sum())"
   ]
  },
  {
   "cell_type": "code",
   "execution_count": 5,
   "metadata": {},
   "outputs": [
    {
     "name": "stdout",
     "output_type": "stream",
     "text": [
      "\n",
      "Percent of data that is missing: 10.10%\n",
      "\n"
     ]
    }
   ],
   "source": [
    "#In this section, I calculate the percentage of rows where data is missing.\n",
    "percent_missing = credit_score_info['days_employed'].isnull().sum() / len(credit_score_info)\n",
    "print(\"\\nPercent of data that is missing: {:.2%}\\n\".format(percent_missing))"
   ]
  },
  {
   "cell_type": "code",
   "execution_count": 4,
   "metadata": {},
   "outputs": [
    {
     "data": {
      "text/html": [
       "<div>\n",
       "<style scoped>\n",
       "    .dataframe tbody tr th:only-of-type {\n",
       "        vertical-align: middle;\n",
       "    }\n",
       "\n",
       "    .dataframe tbody tr th {\n",
       "        vertical-align: top;\n",
       "    }\n",
       "\n",
       "    .dataframe thead th {\n",
       "        text-align: right;\n",
       "    }\n",
       "</style>\n",
       "<table border=\"1\" class=\"dataframe\">\n",
       "  <thead>\n",
       "    <tr style=\"text-align: right;\">\n",
       "      <th></th>\n",
       "      <th></th>\n",
       "      <th>mean</th>\n",
       "      <th>median</th>\n",
       "      <th>difference</th>\n",
       "      <th>difference_percent</th>\n",
       "    </tr>\n",
       "    <tr>\n",
       "      <th>income_type</th>\n",
       "      <th>debt</th>\n",
       "      <th></th>\n",
       "      <th></th>\n",
       "      <th></th>\n",
       "      <th></th>\n",
       "    </tr>\n",
       "  </thead>\n",
       "  <tbody>\n",
       "    <tr>\n",
       "      <td rowspan=\"2\" valign=\"top\">business</td>\n",
       "      <td>0</td>\n",
       "      <td>32474.52</td>\n",
       "      <td>27719.47</td>\n",
       "      <td>4755.06</td>\n",
       "      <td>15.80</td>\n",
       "    </tr>\n",
       "    <tr>\n",
       "      <td>1</td>\n",
       "      <td>31314.00</td>\n",
       "      <td>26661.67</td>\n",
       "      <td>4652.33</td>\n",
       "      <td>16.05</td>\n",
       "    </tr>\n",
       "    <tr>\n",
       "      <td rowspan=\"2\" valign=\"top\">civil servant</td>\n",
       "      <td>0</td>\n",
       "      <td>27535.86</td>\n",
       "      <td>24205.64</td>\n",
       "      <td>3330.22</td>\n",
       "      <td>12.87</td>\n",
       "    </tr>\n",
       "    <tr>\n",
       "      <td>1</td>\n",
       "      <td>24344.98</td>\n",
       "      <td>21847.78</td>\n",
       "      <td>2497.20</td>\n",
       "      <td>10.81</td>\n",
       "    </tr>\n",
       "    <tr>\n",
       "      <td rowspan=\"2\" valign=\"top\">employee</td>\n",
       "      <td>0</td>\n",
       "      <td>25897.56</td>\n",
       "      <td>22865.65</td>\n",
       "      <td>3031.91</td>\n",
       "      <td>12.44</td>\n",
       "    </tr>\n",
       "    <tr>\n",
       "      <td>1</td>\n",
       "      <td>25099.83</td>\n",
       "      <td>22502.18</td>\n",
       "      <td>2597.65</td>\n",
       "      <td>10.91</td>\n",
       "    </tr>\n",
       "    <tr>\n",
       "      <td>entrepreneur</td>\n",
       "      <td>0</td>\n",
       "      <td>79866.10</td>\n",
       "      <td>79866.10</td>\n",
       "      <td>0.00</td>\n",
       "      <td>0.00</td>\n",
       "    </tr>\n",
       "    <tr>\n",
       "      <td>paternity / maternity leave</td>\n",
       "      <td>1</td>\n",
       "      <td>8612.66</td>\n",
       "      <td>8612.66</td>\n",
       "      <td>0.00</td>\n",
       "      <td>0.00</td>\n",
       "    </tr>\n",
       "    <tr>\n",
       "      <td rowspan=\"2\" valign=\"top\">retiree</td>\n",
       "      <td>0</td>\n",
       "      <td>21916.30</td>\n",
       "      <td>18858.69</td>\n",
       "      <td>3057.61</td>\n",
       "      <td>15.00</td>\n",
       "    </tr>\n",
       "    <tr>\n",
       "      <td>1</td>\n",
       "      <td>22374.61</td>\n",
       "      <td>20295.93</td>\n",
       "      <td>2078.68</td>\n",
       "      <td>9.74</td>\n",
       "    </tr>\n",
       "    <tr>\n",
       "      <td>student</td>\n",
       "      <td>0</td>\n",
       "      <td>15712.26</td>\n",
       "      <td>15712.26</td>\n",
       "      <td>0.00</td>\n",
       "      <td>0.00</td>\n",
       "    </tr>\n",
       "    <tr>\n",
       "      <td rowspan=\"2\" valign=\"top\">unemployed</td>\n",
       "      <td>0</td>\n",
       "      <td>32435.60</td>\n",
       "      <td>32435.60</td>\n",
       "      <td>0.00</td>\n",
       "      <td>0.00</td>\n",
       "    </tr>\n",
       "    <tr>\n",
       "      <td>1</td>\n",
       "      <td>9593.12</td>\n",
       "      <td>9593.12</td>\n",
       "      <td>0.00</td>\n",
       "      <td>0.00</td>\n",
       "    </tr>\n",
       "  </tbody>\n",
       "</table>\n",
       "</div>"
      ],
      "text/plain": [
       "                                      mean    median  difference  \\\n",
       "income_type                 debt                                   \n",
       "business                    0     32474.52  27719.47     4755.06   \n",
       "                            1     31314.00  26661.67     4652.33   \n",
       "civil servant               0     27535.86  24205.64     3330.22   \n",
       "                            1     24344.98  21847.78     2497.20   \n",
       "employee                    0     25897.56  22865.65     3031.91   \n",
       "                            1     25099.83  22502.18     2597.65   \n",
       "entrepreneur                0     79866.10  79866.10        0.00   \n",
       "paternity / maternity leave 1      8612.66   8612.66        0.00   \n",
       "retiree                     0     21916.30  18858.69     3057.61   \n",
       "                            1     22374.61  20295.93     2078.68   \n",
       "student                     0     15712.26  15712.26        0.00   \n",
       "unemployed                  0     32435.60  32435.60        0.00   \n",
       "                            1      9593.12   9593.12        0.00   \n",
       "\n",
       "                                  difference_percent  \n",
       "income_type                 debt                      \n",
       "business                    0                  15.80  \n",
       "                            1                  16.05  \n",
       "civil servant               0                  12.87  \n",
       "                            1                  10.81  \n",
       "employee                    0                  12.44  \n",
       "                            1                  10.91  \n",
       "entrepreneur                0                   0.00  \n",
       "paternity / maternity leave 1                   0.00  \n",
       "retiree                     0                  15.00  \n",
       "                            1                   9.74  \n",
       "student                     0                   0.00  \n",
       "unemployed                  0                   0.00  \n",
       "                            1                   0.00  "
      ]
     },
     "execution_count": 4,
     "metadata": {},
     "output_type": "execute_result"
    }
   ],
   "source": [
    "#Pivot table with mean and median income per income_type and whether they've been in debt or not.\n",
    "credit_pivot = credit_score_info.pivot_table(index=['income_type', 'debt'], values='total_income', aggfunc=('mean', 'median'))\n",
    "credit_pivot['difference'] = credit_pivot['mean'] - credit_pivot['median']\n",
    "credit_pivot['difference_percent'] = ((credit_pivot['mean'] - credit_pivot['median']) / ((credit_pivot['mean'] + credit_pivot['median']) / 2) * 100)\n",
    "credit_pivot = credit_pivot.round(2)\n"
   ]
  },
  {
   "cell_type": "code",
   "execution_count": 5,
   "metadata": {},
   "outputs": [],
   "source": [
    "#Create variables to fill in NaN values on DataFrame with approximate incomes based on employment status.\n",
    "median_Business = (credit_pivot.loc['business', 0])[1]\n",
    "median_Civil = (credit_pivot.loc['civil servant', 0])[1]\n",
    "median_Employee = (credit_pivot.loc['employee', 0])[1]\n",
    "median_Entrepreneur = (credit_pivot.loc['entrepreneur', 0])[1]\n",
    "median_PMLeave = (credit_pivot.loc['paternity / maternity leave', 1])[1]\n",
    "median_retiree = (credit_pivot.loc['retiree', 0])[1]\n",
    "median_student = (credit_pivot.loc['student', 0])[1]\n",
    "median_unemployed = (credit_pivot.loc['unemployed', 0])[1]"
   ]
  },
  {
   "cell_type": "code",
   "execution_count": 6,
   "metadata": {},
   "outputs": [],
   "source": [
    "median_credit_dict = {'business' : median_Business,\n",
    "                      'civil servant' : median_Civil,\n",
    "                      'employee' : median_Employee,\n",
    "                      'entrepreneur' : median_Entrepreneur,\n",
    "                      'paternity / maternity leave' : median_PMLeave,\n",
    "                      'retiree' : median_retiree,\n",
    "                      'student' : median_student,\n",
    "                      'unemployed' : median_unemployed}\n",
    "\n",
    "#Replace column values for total_income with median income for each employment status using above variables. \n",
    "for key in median_credit_dict :\n",
    "    credit_score_info.loc[(credit_score_info['income_type'] == key) & (credit_score_info['total_income'].isnull()),\n",
    "                          'total_income'] = median_credit_dict[key]\n",
    "\n"
   ]
  },
  {
   "cell_type": "code",
   "execution_count": 7,
   "metadata": {},
   "outputs": [
    {
     "name": "stdout",
     "output_type": "stream",
     "text": [
      "Chart to Ensure no NaNs in total_income\n",
      "\n",
      "children               0\n",
      "days_employed       2174\n",
      "dob_years              0\n",
      "education              0\n",
      "education_id           0\n",
      "family_status          0\n",
      "family_status_id       0\n",
      "gender                 0\n",
      "income_type            0\n",
      "debt                   0\n",
      "total_income           0\n",
      "purpose                0\n",
      "dtype: int64\n"
     ]
    }
   ],
   "source": [
    "#Print to make sure there are no NaN values in total_income.\n",
    "print(\"Chart to Ensure no NaNs in total_income\\n\")\n",
    "print(credit_score_info.isnull().sum())"
   ]
  },
  {
   "cell_type": "markdown",
   "metadata": {},
   "source": [
    "<div class=\"alert alert-success\">\n",
    "\n",
    "### Comment\n",
    "\n",
    "Good!\n",
    "</div>"
   ]
  },
  {
   "cell_type": "code",
   "execution_count": 8,
   "metadata": {},
   "outputs": [
    {
     "name": "stdout",
     "output_type": "stream",
     "text": [
      "\n",
      "Pivot Chart Mean/Median Age per Income Type\n",
      "                                  mean  median\n",
      "income_type                                   \n",
      "business                     39.697542    39.0\n",
      "civil servant                40.636737    40.0\n",
      "employee                     39.821027    39.0\n",
      "entrepreneur                 42.500000    42.5\n",
      "paternity / maternity leave  39.000000    39.0\n",
      "retiree                      59.063019    60.0\n",
      "student                      22.000000    22.0\n",
      "unemployed                   38.000000    38.0\n"
     ]
    }
   ],
   "source": [
    "#Since 101 individuals have a 0 for their dob_years, we should fill in the missing values. I belive this will help us fill in the values for days_employed.\n",
    "age_pivot = credit_score_info.pivot_table(index=['income_type'], values='dob_years', aggfunc=('mean', 'median'))\n",
    "print(\"\\nPivot Chart Mean/Median Age per Income Type\")\n",
    "print(age_pivot)\n"
   ]
  },
  {
   "cell_type": "code",
   "execution_count": 9,
   "metadata": {},
   "outputs": [],
   "source": [
    "#The mean and median are very similar in age_pivot for each emlpoyment status. I will use the median age for each employment status to replace the dob_years values for those individuals with a value of 0.\n",
    "age_Business = age_pivot.loc['business'][1]\n",
    "age_Civil = age_pivot.loc['civil servant'][1]\n",
    "age_Employee = age_pivot.loc['employee'][1]\n",
    "age_Entrepreneur = age_pivot.loc['entrepreneur'][1]\n",
    "age_PMLeave = age_pivot.loc['paternity / maternity leave'][1]\n",
    "age_Retiree = age_pivot.loc['retiree'][1]\n",
    "age_Student = age_pivot.loc['student'][1]\n",
    "age_Unemployed = age_pivot.loc['unemployed'][1]"
   ]
  },
  {
   "cell_type": "code",
   "execution_count": 10,
   "metadata": {},
   "outputs": [],
   "source": [
    "age_employment_status_dict = {'business' : age_Business,\n",
    "                              'civil servant' : age_Civil,\n",
    "                              'employee' : age_Employee,\n",
    "                              'entrepreneur' : age_Entrepreneur,\n",
    "                              'paternity / maternity leave' : age_PMLeave,\n",
    "                              'retiree' : age_Retiree,\n",
    "                              'student' : age_Student,\n",
    "                              'unemployed' : age_Unemployed}\n"
   ]
  },
  {
   "cell_type": "code",
   "execution_count": 11,
   "metadata": {},
   "outputs": [],
   "source": [
    "#Replace the values for dob_years with the mean according to employment status where dob_years is 0.\n",
    "for key in age_employment_status_dict :\n",
    "    credit_score_info.loc[(credit_score_info['income_type'] == key) & (credit_score_info['dob_years'] == 0), 'dob_years'] = age_employment_status_dict[key]\n",
    "\n"
   ]
  },
  {
   "cell_type": "code",
   "execution_count": 12,
   "metadata": {},
   "outputs": [
    {
     "name": "stdout",
     "output_type": "stream",
     "text": [
      "\n",
      "This represents the remaining count of individuals with dob_years set to 0. There should be none.\n",
      "0\n"
     ]
    }
   ],
   "source": [
    "#Use the following print to see if there are any more rows where the value of dob_years is 0. There aren't.\n",
    "print(\"\\nThis represents the remaining count of individuals with dob_years set to 0. There should be none.\")\n",
    "print((credit_score_info['dob_years'] == 0).sum())"
   ]
  },
  {
   "cell_type": "markdown",
   "metadata": {},
   "source": [
    "<div class=\"alert alert-success\">\n",
    "\n",
    "### Comment\n",
    "\n",
    "Cool!\n",
    "</div>"
   ]
  },
  {
   "cell_type": "code",
   "execution_count": 13,
   "metadata": {},
   "outputs": [
    {
     "name": "stdout",
     "output_type": "stream",
     "text": [
      "\n",
      "Value Counts for Unemployed\n",
      "\n",
      "retiree       3443\n",
      "unemployed       2\n",
      "Name: income_type, dtype: int64\n",
      "\n",
      "Value Counts for Employed\n",
      "\n",
      "employee                       10014\n",
      "business                        4577\n",
      "civil servant                   1312\n",
      "paternity / maternity leave        1\n",
      "entrepreneur                       1\n",
      "student                            1\n",
      "Name: income_type, dtype: int64\n",
      "\n"
     ]
    }
   ],
   "source": [
    "#This block is used to find out how many of each type of income_type has a positive value for days_employed.\n",
    "credit_score_unemployed = credit_score_info.loc[credit_score_info['days_employed'] > 0]\n",
    "credit_score_employed = credit_score_info.loc[credit_score_info['days_employed'] < 0]\n",
    "print(\"\\nValue Counts for Unemployed\\n\")\n",
    "print(credit_score_unemployed['income_type'].value_counts())\n",
    "print(\"\\nValue Counts for Employed\\n\")\n",
    "print(credit_score_employed['income_type'].value_counts())\n",
    "print()"
   ]
  },
  {
   "cell_type": "code",
   "execution_count": 14,
   "metadata": {},
   "outputs": [],
   "source": [
    "#This block sets the days_employed to 0 for those who have positive values for days_employed. \n",
    "credit_score_info.loc[credit_score_info['days_employed'] > 0,  'days_employed'] = 0"
   ]
  },
  {
   "cell_type": "markdown",
   "metadata": {},
   "source": [
    "<div class=\"alert alert-warning\">\n",
    "\n",
    "### Comment\n",
    "\n",
    "For what? Yeah, there are huge values in this field, but they dont mean \"no experience\"\n",
    "</div>"
   ]
  },
  {
   "cell_type": "code",
   "execution_count": 15,
   "metadata": {},
   "outputs": [
    {
     "name": "stdout",
     "output_type": "stream",
     "text": [
      "\n",
      "Missing Values for days_employed by income_type\n",
      "\n",
      "employee         1105\n",
      "business          508\n",
      "retiree           413\n",
      "civil servant     147\n",
      "entrepreneur        1\n",
      "Name: income_type, dtype: int64\n"
     ]
    }
   ],
   "source": [
    "#This block is used to find out how many individuals have a missing value for days_employed based on income_type.\n",
    "credit_score_null = credit_score_info.loc[credit_score_info['days_employed'].isnull()]\n",
    "print(\"\\nMissing Values for days_employed by income_type\\n\")\n",
    "print(credit_score_null['income_type'].value_counts())"
   ]
  },
  {
   "cell_type": "code",
   "execution_count": 16,
   "metadata": {},
   "outputs": [],
   "source": [
    "#This block creates a list of all ages represented in the data.\n",
    "ages = credit_score_info['dob_years'].unique().tolist()"
   ]
  },
  {
   "cell_type": "code",
   "execution_count": 17,
   "metadata": {},
   "outputs": [],
   "source": [
    "#In this block, I create an empty dictionary. I will then iterate through all ages in the list and find the mean of days_employed for each age. For each iteration, the mean days_employed for each age will be added to the dictionary, with the age as the key and mean as the value.\n",
    "ages_days_employed_mean = {}\n",
    "for age in ages :\n",
    "    df_age = (credit_score_info.loc[credit_score_info['dob_years'] == age])\n",
    "    total_age = len(df_age)\n",
    "    df_age_days_employed = df_age.loc[df_age['days_employed'] < 0]\n",
    "    total_age_days_employed = df_age_days_employed['days_employed'].sum()\n",
    "    mean_age_days_employed = total_age_days_employed / total_age\n",
    "    ages_days_employed_mean[age] = mean_age_days_employed"
   ]
  },
  {
   "cell_type": "code",
   "execution_count": 18,
   "metadata": {},
   "outputs": [],
   "source": [
    "#In this block I used the .map() method to replace mising values in the days_employed column. I printed the dictionary and the first 30 rows of the dataframe to make sure that the correct values were filled in.\n",
    "#print(ages_days_employed_mean)\n",
    "credit_score_info['days_employed'] = credit_score_info['days_employed'].fillna(credit_score_info['dob_years'].map(ages_days_employed_mean))    \n",
    "#print()\n",
    "#print(credit_score_info.head(30))"
   ]
  },
  {
   "cell_type": "code",
   "execution_count": 19,
   "metadata": {},
   "outputs": [
    {
     "name": "stdout",
     "output_type": "stream",
     "text": [
      "\n",
      "Final Count of Missing Values\n",
      "\n",
      "children            0\n",
      "days_employed       0\n",
      "dob_years           0\n",
      "education           0\n",
      "education_id        0\n",
      "family_status       0\n",
      "family_status_id    0\n",
      "gender              0\n",
      "income_type         0\n",
      "debt                0\n",
      "total_income        0\n",
      "purpose             0\n",
      "dtype: int64\n"
     ]
    }
   ],
   "source": [
    "#Finally, this block is used to see if there are any leftover null values in the dataframe.\n",
    "print(\"\\nFinal Count of Missing Values\\n\")\n",
    "print(credit_score_info.isnull().sum())"
   ]
  },
  {
   "cell_type": "markdown",
   "metadata": {},
   "source": [
    "<div class=\"alert alert-success\">\n",
    "\n",
    "### Comment\n",
    "\n",
    "Ok! Only because days_employes are not effect to final ansver we can accept this\n",
    "</div>"
   ]
  },
  {
   "cell_type": "code",
   "execution_count": 20,
   "metadata": {},
   "outputs": [
    {
     "name": "stdout",
     "output_type": "stream",
     "text": [
      "\n",
      "Value Counts for Children\n",
      "\n",
      " 0     14149\n",
      " 1      4818\n",
      " 2      2055\n",
      " 3       330\n",
      " 20       76\n",
      "-1        47\n",
      " 4        41\n",
      " 5         9\n",
      "Name: children, dtype: int64\n"
     ]
    }
   ],
   "source": [
    "#Value Counts for Children\n",
    "print(\"\\nValue Counts for Children\\n\")\n",
    "print(credit_score_info['children'].value_counts())"
   ]
  },
  {
   "cell_type": "code",
   "execution_count": 21,
   "metadata": {},
   "outputs": [
    {
     "name": "stdout",
     "output_type": "stream",
     "text": [
      "\n",
      "Updated Value Counts for Children\n",
      "\n",
      "0    14196\n",
      "1     4818\n",
      "2     2131\n",
      "3      330\n",
      "4       41\n",
      "5        9\n",
      "Name: children, dtype: int64\n"
     ]
    }
   ],
   "source": [
    "#Update values for what apear to be incorrectly input data.\n",
    "credit_score_info.loc[credit_score_info['children'] == 20, 'children'] = 2\n",
    "credit_score_info.loc[credit_score_info['children'] == -1, 'children'] = 0\n",
    "print(\"\\nUpdated Value Counts for Children\\n\")\n",
    "print(credit_score_info['children'].value_counts())"
   ]
  },
  {
   "cell_type": "markdown",
   "metadata": {},
   "source": [
    "<div class=\"alert alert-success\">\n",
    "\n",
    "### Comment\n",
    "\n",
    "Good!\n",
    "</div>"
   ]
  },
  {
   "cell_type": "code",
   "execution_count": 22,
   "metadata": {},
   "outputs": [],
   "source": [
    "# print(\"\\nInitial sum of null values\\n\")\n",
    "# print(credit_score_info.isnull().sum())\n",
    "\n",
    "# #null_days_employed = credit_score_info.loc[credit_score_info['days_employed'].isnull()]\n",
    "# #print(null_days_employed.isnull().sum())\n",
    "# #print(null_days_employed)\n",
    "# #In the commented out part, I saved the rows with missing values for days_empoloyed to the variable null_days_employed and printed it to see if all the rows with NaN for days_employed also have NaN for total_income.\n",
    "\n",
    "# #In this section, I calculate the percentage of rows where data is missing.\n",
    "# percent_missing = credit_score_info['days_employed'].isnull().sum() / len(credit_score_info)\n",
    "# print(\"\\nPercent of data that is missing: {:.2%}\\n\".format(percent_missing))\n",
    "\n",
    "# #Pivot table with mean and median income per income_type and whether they've been in debt or not.\n",
    "# credit_pivot = credit_score_info.pivot_table(index=['income_type', 'debt'], values='total_income', aggfunc=('mean', 'median'))\n",
    "# credit_pivot['difference'] = credit_pivot['mean'] - credit_pivot['median']\n",
    "# credit_pivot['difference_percent'] = ((credit_pivot['mean'] - credit_pivot['median']) / ((credit_pivot['mean'] + credit_pivot['median']) / 2) * 100)\n",
    "# credit_pivot = credit_pivot.round(2)\n",
    "# #print(\"Pivot table\\n\")\n",
    "# #print(credit_pivot)\n",
    "\n",
    "# #Create variables to fill in NaN values on DataFrame with approximate incomes based on employment status.\n",
    "# median_Business = (credit_pivot.loc['business', 0])[1]\n",
    "# median_Civil = (credit_pivot.loc['civil servant', 0])[1]\n",
    "# median_Employee = (credit_pivot.loc['employee', 0])[1]\n",
    "# median_Entrepreneur = (credit_pivot.loc['entrepreneur', 0])[1]\n",
    "# median_PMLeave = (credit_pivot.loc['paternity / maternity leave', 1])[1]\n",
    "# median_retiree = (credit_pivot.loc['retiree', 0])[1]\n",
    "# median_student = (credit_pivot.loc['student', 0])[1]\n",
    "# median_unemployed = (credit_pivot.loc['unemployed', 0])[1]\n",
    "\n",
    "# median_credit_dict = {'business' : median_Business, 'civil servant' : median_Civil, 'employee' : median_Employee, 'entrepreneur' : median_Entrepreneur, 'paternity / maternity leave' : median_PMLeave, 'retiree' : median_retiree, 'student' : median_student, 'unemployed' : median_unemployed}\n",
    "\n",
    "# #Replace column values for total_income with median income for each employment status using above variables. \n",
    "# for key in median_credit_dict :\n",
    "#     credit_score_info.loc[(credit_score_info['income_type'] == key) & (credit_score_info['total_income'].isnull()), 'total_income'] = median_credit_dict[key]\n",
    "\n",
    "# #The following code is the old way I did the above task. Keeping it to show the code reviewers how the code was cleaned up.\n",
    "# #credit_score_info.loc[(credit_score_info['income_type'] == 'business') & (credit_score_info['total_income'].isnull()), 'total_income'] = median_Business\n",
    "# #credit_score_info.loc[(credit_score_info['income_type'] == 'civil servant') & (credit_score_info['total_income'].isnull()), 'total_income'] = median_Civil\n",
    "# #credit_score_info.loc[(credit_score_info['income_type'] == 'employee') & (credit_score_info['total_income'].isnull()), 'total_income'] = median_Employee\n",
    "# #credit_score_info.loc[(credit_score_info['income_type'] == 'entrepreneur') & (credit_score_info['total_income'].isnull()), 'total_income'] = median_Entrepreneur\n",
    "# #credit_score_info.loc[(credit_score_info['income_type'] == 'paternity / maternity leave') & (credit_score_info['total_income'].isnull()), 'total_income'] = median_PMLeave\n",
    "# #credit_score_info.loc[(credit_score_info['income_type'] == 'retiree') & (credit_score_info['total_income'].isnull()), 'total_income'] = median_retiree\n",
    "# #credit_score_info.loc[(credit_score_info['income_type'] == 'student') & (credit_score_info['total_income'].isnull()), 'total_income'] = median_student\n",
    "# #credit_score_info.loc[(credit_score_info['income_type'] == 'unemployed') & (credit_score_info['total_income'].isnull()), 'total_income'] = median_unemployed\n",
    "\n",
    "# #Print to make sure there are no NaN values in total_income.\n",
    "# print(\"Chart to Ensure no NaNs in total_income\\n\")\n",
    "# print(credit_score_info.isnull().sum())\n",
    "\n",
    "# #Check how many people have a value of 0 for dob_years.\n",
    "# #print((credit_score_info['dob_years'] == 0).sum())\n",
    "\n",
    "# #Since 101 individuals have a 0 for their dob_years, we should fill in the missing values. I belive this will help us fill in the values for days_employed.\n",
    "# age_pivot = credit_score_info.pivot_table(index=['income_type'], values='dob_years', aggfunc=('mean', 'median'))\n",
    "# print(\"\\nPivot Chart Mean/Median Age per Income Type\")\n",
    "# print(age_pivot)\n",
    "\n",
    "# #The mean and median are very similar in age_pivot for each emlpoyment status. I will use the median age for each employment status to replace the dob_years values for those individuals with a value of 0.\n",
    "# age_Business = age_pivot.loc['business'][1]\n",
    "# age_Civil = age_pivot.loc['civil servant'][1]\n",
    "# age_Employee = age_pivot.loc['employee'][1]\n",
    "# age_Entrepreneur = age_pivot.loc['entrepreneur'][1]\n",
    "# age_PMLeave = age_pivot.loc['paternity / maternity leave'][1]\n",
    "# age_Retiree = age_pivot.loc['retiree'][1]\n",
    "# age_Student = age_pivot.loc['student'][1]\n",
    "# age_Unemployed = age_pivot.loc['unemployed'][1]\n",
    "\n",
    "# age_employment_status_dict = {'business' : age_Business, 'civil servant' : age_Civil, 'employee' : age_Employee, 'entrepreneur' : age_Entrepreneur, 'paternity / maternity leave' : age_PMLeave, 'retiree' : age_Retiree, 'student' : age_Student, 'unemployed' : age_Unemployed}\n",
    "\n",
    "# #Replace the values for dob_years with the mean according to employment status where dob_years is 0.\n",
    "# for key in age_employment_status_dict :\n",
    "#     credit_score_info.loc[(credit_score_info['income_type'] == key) & (credit_score_info['dob_years'] == 0), 'dob_years'] = age_employment_status_dict[key]\n",
    "\n",
    "# #The following code is the old way I did the above task. Keeping it to show the code reviewers how the code was cleaned up.\n",
    "# #credit_score_info.loc[(credit_score_info['income_type'] == 'business') & (credit_score_info['dob_years'] == 0), 'dob_years'] = age_Business\n",
    "# #credit_score_info.loc[(credit_score_info['income_type'] == 'civil servant') & (credit_score_info['dob_years'] == 0), 'dob_years'] = age_Civil\n",
    "# #credit_score_info.loc[(credit_score_info['income_type'] == 'employee') & (credit_score_info['dob_years'] == 0), 'dob_years'] = age_Employee\n",
    "# #credit_score_info.loc[(credit_score_info['income_type'] == 'entrepreneur') & (credit_score_info['dob_years'] == 0), 'dob_years'] = age_Entrepreneur\n",
    "# #credit_score_info.loc[(credit_score_info['income_type'] == 'paternity / maternity leave') & (credit_score_info['dob_years'] == 0), 'dob_years'] = age_PMLeave\n",
    "# #credit_score_info.loc[(credit_score_info['income_type'] == 'retiree') & (credit_score_info['dob_years'] == 0), 'dob_years'] = age_Student\n",
    "# #credit_score_info.loc[(credit_score_info['income_type'] == 'unemployed') & (credit_score_info['dob_years'] == 0), 'dob_years'] = age_Unemployed\n",
    "\n",
    "# #Use the following print to see if there are any more rows where the value of dob_years is 0. There aren't.\n",
    "# print(\"\\nThis represents the remaining count of individuals with dob_years set to 0. There should be none.\")\n",
    "# print((credit_score_info['dob_years'] == 0).sum())\n",
    "\n",
    "# #This block is used to find out how many of each type of income_type has a positive value for days_employed.\n",
    "# credit_score_unemployed = credit_score_info.loc[credit_score_info['days_employed'] > 0]\n",
    "# credit_score_employed = credit_score_info.loc[credit_score_info['days_employed'] < 0]\n",
    "# print(\"\\nValue Counts for Unemployed\\n\")\n",
    "# print(credit_score_unemployed['income_type'].value_counts())\n",
    "# print(\"\\nValue Counts for Employed\\n\")\n",
    "# print(credit_score_employed['income_type'].value_counts())\n",
    "# print()\n",
    "\n",
    "# #This block sets the days_employed to 0 for those who have positive values for days_employed. \n",
    "# credit_score_info.loc[credit_score_info['days_employed'] > 0,  'days_employed'] = 0\n",
    "\n",
    "# #This block is used to find out how many individuals have a missing value for days_employed based on income_type.\n",
    "# credit_score_null = credit_score_info.loc[credit_score_info['days_employed'].isnull()]\n",
    "# print(\"\\nMissing Values for days_employed by income_type\\n\")\n",
    "# print(credit_score_null['income_type'].value_counts())\n",
    "\n",
    "# #This block creates a list of all ages represented in the data.\n",
    "# ages = credit_score_info['dob_years'].unique().tolist()\n",
    "\n",
    "# #In this block, I create an empty dictionary. I will then iterate through all ages in the list and find the mean of days_employed for each age. For each iteration, the mean days_employed for each age will be added to the dictionary, with the age as the key and mean as the value.\n",
    "# ages_days_employed_mean = {}\n",
    "# for age in ages :\n",
    "#     df_age = (credit_score_info.loc[credit_score_info['dob_years'] == age])\n",
    "#     total_age = len(df_age)\n",
    "#     df_age_days_employed = df_age.loc[df_age['days_employed'] < 0]\n",
    "#     total_age_days_employed = df_age_days_employed['days_employed'].sum()\n",
    "#     mean_age_days_employed = total_age_days_employed / total_age\n",
    "#     ages_days_employed_mean[age] = mean_age_days_employed\n",
    "    \n",
    "# #In this block I used the .map() method to replace mising values in the days_employed column. I printed the dictionary and the first 30 rows of the dataframe to make sure that the correct values were filled in.\n",
    "# #print(ages_days_employed_mean)\n",
    "# credit_score_info['days_employed'] = credit_score_info['days_employed'].fillna(credit_score_info['dob_years'].map(ages_days_employed_mean))    \n",
    "# #print()\n",
    "# #print(credit_score_info.head(30))\n",
    "\n",
    "# #Finally, this block is used to see if there are any leftover null values in the dataframe.\n",
    "# print(\"\\nFinal Count of Missing Values\\n\")\n",
    "# print(credit_score_info.isnull().sum())\n",
    "\n",
    "# #Value Counts for Children\n",
    "# print(\"\\nValue Counts for Children\\n\")\n",
    "# print(credit_score_info['children'].value_counts())\n",
    "\n",
    "# #Update values for what apear to be incorrectly input data.\n",
    "# credit_score_info.loc[credit_score_info['children'] == 20, 'children'] = 2\n",
    "# credit_score_info.loc[credit_score_info['children'] == -1, 'children'] = 0\n",
    "# print(\"\\nUpdated Value Counts for Children\\n\")\n",
    "# print(credit_score_info['children'].value_counts())\n"
   ]
  },
  {
   "cell_type": "markdown",
   "metadata": {},
   "source": [
    "### Conclusion"
   ]
  },
  {
   "cell_type": "markdown",
   "metadata": {},
   "source": [
    "I found that the rows that have days_employed missing line up with the rows that have total_income missing; that is, each row with missing data for days_employed also is missing data for total_income. No other rows have missing data in either column. I printed the DataFrame for those rows missing data and did not find anything that suggests the values are missing because of a relation to anything in the other columns.\n",
    "\n",
    "It turns out that a bit over 10% of our data is missing critical information. Since deleting 10% of the data might skew our results, I don't think it would be a good idea to delete it. (Note: to make the results easier to read, I rounded the number to the nearest 2nd decimal place).\n",
    "\n",
    "Since one of the key parameters we need to look at is total-income, I decided to fill in the missing values for the column. To do this, I first created a pivot table to see how individuals' income differed based on their employment status. I also decided to factor in whether an individual has defaulted on a loan before, as their wages may be garnered and that could reduce their income. The pivot table shows that there is a dramatic difference in mean and median incomes between employment statuses. For example, an entrepreneur makes on average twice as much as someone who is classified as 'business'. There is also a slight difference in mean and median incomes based on whether someone has been in debt, but the difference appears quite small for each employment status. Finally, the percentage difference between the mean and median incomes appears, in more than half the cases, to be larger than 10 percent; since the mean is larger than the median, it means that the data is skewed. This skewing happens because there are a number of individuals in the relevant employment statuses making much more than the median. \n",
    "\n",
    "Given that the mean is higher than the median for most of the incomes of each employment status, I chose to fill in the missing values in the total_income column with the median values of the incomes for the specific area of employment that the individual is categorized in. To do this, I first stored the higher of the median values for each employment status in variables, and then I used a double conditional to set the null values in the total_income columns to the relevant median value. \n",
    "\n",
    "I noticed that there were essentially missing values for dob_years. It did not show up earlier when I was checking for null value counts, but I did notice that some individuals had a 0 value for dob_years. I figured that one's age strongly correlates with their type of employment. To test this, I created a pivot table and took the mean and median ages of all individuals for each employment status. It turns out that the mean and median for each employment status are very close, which means that the data is not significantly skewed by outliers. Based on this finding, I decided to fill all 101 values where dob_years is 0 to the median dob_years that aligns with each individuals employment status.\n",
    "\n",
    "In deciding how to replace missing data for the days_employed column, I first wanted to see which individuals have positive values for the days_employed. I took the value counts of two dataframes, one which shows the counts for those with positive values for days_employed and another for individuals with negative values for days employed. It turns out that only retired individuals and the unemployed have positive values for days_employed, and no individuals in either group has negative values for days employed. This leads me to conclude that those specific individuals are unemployed, and the positive number is a measure of either how long they've been unemployed, or how long the bank believes they will be unemployed for. Given this detail, I chose to set the days_employed values for individuals in each group to 0.\n",
    "\n",
    "In order to fill in the missing data for days_employed, I decided to do it by age. My assumption is that one's age has the greatest factor on how long they've been employed. This may be mistaken and there may be another parameter by which to more accurately estimate how long an individual has been employed; however, given that days_employed is not one parameter we're asked to use when considering how likely it is one will defualt on a loan, I decided to input missing values for days_employed by age simply as an exercise to better my skills as a programmer. That being said, in order to fill in the missing values I first created a list of all ages represented in the data. I then created an empty dictionary and used a for loop to iterate through all ages in the list. In the loop, I calculated the total number of individuals listed with each specific age and found the mean of the days_employed for each age. I then added the information to the dictionary, with age as the key and mean of days_employed for the value. It's important to note that I only considered the rows for individuals of each age that had a negative value for days_employed - this is because I set days_employed to 0 for those who have positive values for the field, as they are most likely not currently employed. By using this conditional, I was able to prevent skewing the data based on those with 0 for days_employed. \n",
    "\n",
    "To fill in the missing values for days employed, I used the .map() method. I originally was going to try using a for loop, but then I found a StackOverflow page that describes the map method. Using this method, I was able to replace all the missing values in days_employed according to the individuals age. The dictionary I created lists each age represented in the data as a key and the corresponding mean days_employed as the value. I then printed the first 30 lines of the data, in which I know there were 3 NaNs, along with the dictionary to ensure that the correct values were input for each individual based on their age.\n",
    "\n",
    "The final count of NaNs show that there is no longer any missing data. \n",
    "\n",
    "--Update--\n",
    "\n",
    "Later in the process I noticed that there were strange values in the children category - a small number of individuals were reported as having -1 children or 20 children. Regarding the former, either it was a mistake in inputting the data or it might represent a family that has a child who is either no longer a dependant. Given that it is such a small number of individuals with -1 listed, I opted to change the values to 0. Regarding those with a value of 20 in the column, I am assuming that this is an error in typeing - may have been caused by using the number pad and accidentally hitting the 0 after typeing 2. Again, this is a small number compared to the overall total, so I don't believe it will make a significant difference; as such, I opted to change the values from 20 to 2. "
   ]
  },
  {
   "cell_type": "markdown",
   "metadata": {},
   "source": [
    "<div class=\"alert alert-success\">\n",
    "\n",
    "### Comment\n",
    "\n",
    "Pretty good work! Excellent! \n",
    "</div>"
   ]
  },
  {
   "cell_type": "markdown",
   "metadata": {},
   "source": [
    "<div class=\"alert alert-warning\">\n",
    "\n",
    "### Comment\n",
    "\n",
    "Please try to not create such big code-cells. Its very difficult for reading and reviewing.Step by step...\n",
    "</div>"
   ]
  },
  {
   "cell_type": "markdown",
   "metadata": {},
   "source": [
    "### Data type replacement"
   ]
  },
  {
   "cell_type": "code",
   "execution_count": 23,
   "metadata": {},
   "outputs": [
    {
     "name": "stdout",
     "output_type": "stream",
     "text": [
      "\n",
      "Sample of Reformatted Data\n",
      "\n",
      "   children  days_employed  dob_years            education  education_id  \\\n",
      "0         1          -8438         42    bachelor's degree             0   \n",
      "1         1          -4025         36  secondary education             1   \n",
      "2         0          -5623         33  Secondary Education             1   \n",
      "3         3          -4125         32  secondary education             1   \n",
      "4         0              0         53  secondary education             1   \n",
      "\n",
      "       family_status  family_status_id gender income_type  debt  total_income  \\\n",
      "0            married                 0      F    employee     0         40620   \n",
      "1            married                 0      F    employee     0         17933   \n",
      "2            married                 0      M    employee     0         23342   \n",
      "3            married                 0      M    employee     0         42821   \n",
      "4  civil partnership                 1      F     retiree     0         25379   \n",
      "\n",
      "                   purpose  \n",
      "0    purchase of the house  \n",
      "1             car purchase  \n",
      "2    purchase of the house  \n",
      "3  supplementary education  \n",
      "4        to have a wedding  \n"
     ]
    }
   ],
   "source": [
    "credit_score_info['days_employed'] = credit_score_info['days_employed'].round(0).astype(int)\n",
    "credit_score_info['total_income'] = credit_score_info['total_income'].round(0).astype(int)\n",
    "credit_score_info['dob_years'] = credit_score_info['dob_years'].astype(int)\n",
    "print(\"\\nSample of Reformatted Data\\n\")\n",
    "print(credit_score_info.head(5))"
   ]
  },
  {
   "cell_type": "markdown",
   "metadata": {},
   "source": [
    "### Conclusion"
   ]
  },
  {
   "cell_type": "markdown",
   "metadata": {},
   "source": [
    "In this section, I changed the values for dob_years, total_income, and days_employed to integers. However, before doing so for days_employed and total_income, I rounded the values to have a more accurate representation of the data - this isn't likely to make a big difference given the large values represented in both columns, but I wanted to get into the habit of rounding for future tasks in which it might be necessary. I did not need to round the values for dob_years, as they were already being represented as whole numbers."
   ]
  },
  {
   "cell_type": "markdown",
   "metadata": {},
   "source": [
    "<div class=\"alert alert-success\">\n",
    "\n",
    "### Comment\n",
    "\n",
    "Perfect!\n",
    "</div>"
   ]
  },
  {
   "cell_type": "markdown",
   "metadata": {},
   "source": [
    "### Processing duplicates"
   ]
  },
  {
   "cell_type": "code",
   "execution_count": 24,
   "metadata": {},
   "outputs": [],
   "source": [
    "#Make all qualitative variable values lowercase.\n",
    "credit_score_info['education'] = credit_score_info['education'].str.lower()\n",
    "credit_score_info['family_status'] = credit_score_info['family_status'].str.lower()\n",
    "credit_score_info['income_type'] = credit_score_info['income_type'].str.lower()\n",
    "credit_score_info['purpose'] = credit_score_info['purpose'].str.lower()"
   ]
  },
  {
   "cell_type": "code",
   "execution_count": 25,
   "metadata": {},
   "outputs": [
    {
     "name": "stdout",
     "output_type": "stream",
     "text": [
      "Purposes Stated for Loan\n",
      "\n",
      "wedding ceremony                            797\n",
      "having a wedding                            777\n",
      "to have a wedding                           774\n",
      "real estate transactions                    676\n",
      "buy commercial real estate                  664\n",
      "buying property for renting out             653\n",
      "housing transactions                        653\n",
      "transactions with commercial real estate    651\n",
      "housing                                     647\n",
      "purchase of the house                       647\n",
      "purchase of the house for my family         641\n",
      "construction of own property                635\n",
      "property                                    634\n",
      "transactions with my real estate            630\n",
      "building a real estate                      626\n",
      "buy real estate                             624\n",
      "building a property                         620\n",
      "purchase of my own house                    620\n",
      "housing renovation                          612\n",
      "buy residential real estate                 607\n",
      "buying my own car                           505\n",
      "going to university                         496\n",
      "car                                         495\n",
      "second-hand car purchase                    489\n",
      "to own a car                                480\n",
      "buying a second-hand car                    479\n",
      "cars                                        478\n",
      "to buy a car                                472\n",
      "supplementary education                     462\n",
      "car purchase                                462\n",
      "purchase of a car                           455\n",
      "university education                        453\n",
      "to get a supplementary education            447\n",
      "education                                   447\n",
      "getting an education                        443\n",
      "profile education                           436\n",
      "getting higher education                    426\n",
      "to become educated                          412\n",
      "Name: purpose, dtype: int64\n"
     ]
    }
   ],
   "source": [
    "#Get value count of all values for purpose.\n",
    "print('Purposes Stated for Loan\\n')\n",
    "print(credit_score_info['purpose'].value_counts())"
   ]
  },
  {
   "cell_type": "code",
   "execution_count": 26,
   "metadata": {},
   "outputs": [],
   "source": [
    "#Replace all similarly phrased purposes with a relevant common purpose.\n",
    "credit_score_info['purpose'] = credit_score_info['purpose'].replace(r'.*wedding.*', 'wedding', regex=True)\n",
    "credit_score_info['purpose'] = credit_score_info['purpose'].replace(r'.*\\b(estate|property|house|houseing|housing)\\b.*', 'property', regex=True)\n",
    "credit_score_info['purpose'] = credit_score_info['purpose'].replace(r'.*car.*', 'car', regex=True)\n",
    "credit_score_info['purpose'] = credit_score_info['purpose'].replace(r'.*\\b(university|education|educated)\\b.*', 'education', regex=True)"
   ]
  },
  {
   "cell_type": "code",
   "execution_count": 27,
   "metadata": {},
   "outputs": [
    {
     "name": "stdout",
     "output_type": "stream",
     "text": [
      "\n",
      "Updated Common Purposes for Loan\n",
      "\n",
      "property     10840\n",
      "car           4315\n",
      "education     4022\n",
      "wedding       2348\n",
      "Name: purpose, dtype: int64\n"
     ]
    }
   ],
   "source": [
    "#Get new value counts to see how many purposes are now expressed.\n",
    "print('\\nUpdated Common Purposes for Loan\\n')\n",
    "print(credit_score_info['purpose'].value_counts())"
   ]
  },
  {
   "cell_type": "markdown",
   "metadata": {},
   "source": [
    "<div class=\"alert alert-success\">\n",
    "\n",
    "### Comment\n",
    "\n",
    "Wow! Smart method, nobody applyed it before :)\n",
    "</div>"
   ]
  },
  {
   "cell_type": "code",
   "execution_count": 28,
   "metadata": {},
   "outputs": [
    {
     "name": "stdout",
     "output_type": "stream",
     "text": [
      "\n",
      "There are 409 duplicated rows\n",
      "\n"
     ]
    }
   ],
   "source": [
    "#Search for duplicated values\n",
    "duplicated_sum = credit_score_info.duplicated().sum()\n",
    "print(\"\\nThere are {} duplicated rows\\n\".format(duplicated_sum))"
   ]
  },
  {
   "cell_type": "code",
   "execution_count": 29,
   "metadata": {},
   "outputs": [
    {
     "name": "stdout",
     "output_type": "stream",
     "text": [
      "Duplicated rows are being deleted, save for the first occurances of each.\n",
      "\n",
      "There are now 0 duplicated rows\n",
      "\n"
     ]
    }
   ],
   "source": [
    "#Drop duplicated rows, except for the first occurance.\n",
    "print('Duplicated rows are being deleted, save for the first occurances of each.\\n')\n",
    "credit_score_info.drop_duplicates(subset=None, keep='first', inplace=True)\n",
    "credit_score_info.reset_index(drop=True, inplace=True)\n",
    "duplicated_sum = credit_score_info.duplicated().sum()\n",
    "print(\"There are now {} duplicated rows\\n\".format(duplicated_sum))"
   ]
  },
  {
   "cell_type": "code",
   "execution_count": null,
   "metadata": {},
   "outputs": [],
   "source": []
  },
  {
   "cell_type": "code",
   "execution_count": 30,
   "metadata": {
    "scrolled": true
   },
   "outputs": [],
   "source": [
    "# #Make all qualitative variable values lowercase.\n",
    "# credit_score_info['education'] = credit_score_info['education'].str.lower()\n",
    "# credit_score_info['family_status'] = credit_score_info['family_status'].str.lower()\n",
    "# credit_score_info['income_type'] = credit_score_info['income_type'].str.lower()\n",
    "# credit_score_info['purpose'] = credit_score_info['purpose'].str.lower()\n",
    "\n",
    "# #Get value count of all values for purpose.\n",
    "# print('Purposes Stated for Loan\\n')\n",
    "# print(credit_score_info['purpose'].value_counts())\n",
    "\n",
    "# #Replace all similarly phrased purposes with a relevant common purpose.\n",
    "# credit_score_info['purpose'] = credit_score_info['purpose'].replace(r'.*wedding.*', 'wedding', regex=True)\n",
    "# credit_score_info['purpose'] = credit_score_info['purpose'].replace(r'.*\\b(estate|property|house|houseing|housing)\\b.*', 'property', regex=True)\n",
    "# credit_score_info['purpose'] = credit_score_info['purpose'].replace(r'.*car.*', 'car', regex=True)\n",
    "# credit_score_info['purpose'] = credit_score_info['purpose'].replace(r'.*\\b(university|education|educated)\\b.*', 'education', regex=True)\n",
    "\n",
    "# #Get new value counts to see how many purposes are now expressed.\n",
    "# print('\\nUpdated Common Purposes for Loan\\n')\n",
    "# print(credit_score_info['purpose'].value_counts())\n",
    "\n",
    "# #Search for duplicated values\n",
    "# duplicated_sum = credit_score_info.duplicated().sum()\n",
    "# print(\"\\nThere are {} duplicated rows\\n\".format(duplicated_sum))\n",
    "\n",
    "# #Drop duplicated rows, except for the first occurance.\n",
    "# print('Duplicated rows are being deleted, save for the first occurances of each.\\n')\n",
    "# credit_score_info.drop_duplicates(subset=None, keep='first', inplace=True)\n",
    "# credit_score_info.reset_index(drop=True, inplace=True)\n",
    "# duplicated_sum = credit_score_info.duplicated().sum()\n",
    "# print(\"There are now {} duplicated rows\\n\".format(duplicated_sum))\n",
    "\n"
   ]
  },
  {
   "cell_type": "markdown",
   "metadata": {},
   "source": [
    "### Conclusion"
   ]
  },
  {
   "cell_type": "markdown",
   "metadata": {},
   "source": [
    "I started this task by making sure that all qualitiative variables are lowercase. Though certain columns seem to only feature lowercase strings, such as family_status, I called the str.lower() function on it anyways in case there was a hidden string with uppercase letters.\n",
    "\n",
    "Noticing that there were some loan applications listing similar purposes but written differently (e.g., 'car' and 'purchase a car'), I decided to change each value based on its general purpose. To do so, I used regularexpression to change the purpose of anything having to do with purchasing a house/property, purchasing a vehicle, funding a wedding, or obtaining more edication to 'property', 'car', 'wedding', and 'education', respectively. I did this because rows with all columns having the same value, save for the purpose category, would not show up as duplicates. This would be problematic if the purpose was generally for the same thing, as the row would be, in essence, duplicate. By changing all the values to their general form, we are better able to catch duplicates. It might be the case that the same individual opened two applications for loans at different dates and stated a similir purpose for the loan, though not written exactly the same as the first application. By changing the values, such rows would show up as duplicated; however, we would not lose any critical information by deleting the duplicated row, as the critical information for determining a person's likelyhood to default on a loan would still be represented for the individual in the data. \n",
    "\n",
    "It's important to mention that I did not delete all duplicated rows; rather, I made sure to keep the first row for each duplicated set. If I were to delete all rows of a duplicated set, then we would lose critical information about the individual represented in each duplicated set. By keeping the first row, we retain the critical information while ensuring our data is not skewed by duplicates.\n",
    "\n",
    "It is unclear why duplicate data arises in this dataset. It could be that an individual applied for loans on more than one occassion for the same thing, or that the person processing the loan put through an application for each specific phrasing of the purpose. While I do not have much experience with applying for loans, my intuition is that the reason in this case is the former.\n"
   ]
  },
  {
   "cell_type": "markdown",
   "metadata": {},
   "source": [
    "<div class=\"alert alert-success\">\n",
    "\n",
    "### Comment\n",
    "\n",
    "I have no any rebukes\n",
    "</div>"
   ]
  },
  {
   "cell_type": "markdown",
   "metadata": {},
   "source": [
    "### Categorizing Data"
   ]
  },
  {
   "cell_type": "code",
   "execution_count": 31,
   "metadata": {},
   "outputs": [
    {
     "name": "stdout",
     "output_type": "stream",
     "text": [
      "\n",
      "Unique Values for Marital Status\n",
      "\n",
      "['married', 'civil partnership', 'widow / widower', 'divorced', 'unmarried']\n"
     ]
    }
   ],
   "source": [
    "#This block is to find unique values for family_status. I place all the unique values in a list.\n",
    "print('\\nUnique Values for Marital Status\\n')\n",
    "list_family_status = credit_score_info['family_status'].unique().tolist()\n",
    "print(list_family_status)"
   ]
  },
  {
   "cell_type": "code",
   "execution_count": 32,
   "metadata": {},
   "outputs": [
    {
     "name": "stdout",
     "output_type": "stream",
     "text": [
      "\n",
      "Dictionary for Family Status\n",
      "\n",
      "{'married': 'M', 'civil partnership': 'C', 'widow / widower': 'W', 'divorced': 'D', 'unmarried': 'U'}\n"
     ]
    }
   ],
   "source": [
    "#I will map family status with the status' corresponding uppercase letter to clean up the data. To do so I place all unique family_status values in a dictionary and assign them the corresponding uppercase letter using a for loop.\n",
    "status_dict = {}\n",
    "for status in list_family_status:\n",
    "    for i in range(len(list_family_status)) :\n",
    "        status_dict[status] = status[0].upper()\n",
    "print(\"\\nDictionary for Family Status\\n\")\n",
    "print(status_dict)\n",
    "credit_score_info['family_status'].replace(status_dict, inplace=True)"
   ]
  },
  {
   "cell_type": "markdown",
   "metadata": {},
   "source": [
    "<div class=\"alert alert-warning\">\n",
    "\n",
    "### Comment\n",
    "\n",
    "For what? Theare are already good category names. Moreover, customers like clear names.\n",
    "</div>"
   ]
  },
  {
   "cell_type": "code",
   "execution_count": 33,
   "metadata": {},
   "outputs": [
    {
     "name": "stdout",
     "output_type": "stream",
     "text": [
      "\n",
      "Unique Values for Purpose\n",
      "\n",
      "['property', 'car', 'education', 'wedding']\n"
     ]
    }
   ],
   "source": [
    "#This block is to find the unique values for purpose. I place all values in a list.\n",
    "print('\\nUnique Values for Purpose\\n')\n",
    "list_Purpose = credit_score_info['purpose'].unique().tolist()\n",
    "print(list_Purpose)"
   ]
  },
  {
   "cell_type": "code",
   "execution_count": 34,
   "metadata": {},
   "outputs": [
    {
     "name": "stdout",
     "output_type": "stream",
     "text": [
      "\n",
      "Dictionary for Purpose\n",
      "\n",
      "{'property': 'P', 'car': 'C', 'education': 'E', 'wedding': 'W'}\n",
      "\n"
     ]
    }
   ],
   "source": [
    "#This block is to map all purposes with their corresponding uppercase letter in order to clean up the data. This will be done using a dictionary and a for loop, as was done for family_status.\n",
    "purpose_dict = {}\n",
    "for purpose in list_Purpose:\n",
    "    for i in range(len(list_Purpose)) :\n",
    "        purpose_dict[purpose] = purpose[0].upper()\n",
    "print(\"\\nDictionary for Purpose\\n\")\n",
    "print(purpose_dict)\n",
    "print()\n",
    "credit_score_info['purpose'].replace(purpose_dict, inplace=True)"
   ]
  },
  {
   "cell_type": "markdown",
   "metadata": {},
   "source": [
    "<div class=\"alert alert-warning\">\n",
    "\n",
    "### Comment\n",
    "\n",
    "The same issue\n",
    "</div>"
   ]
  },
  {
   "cell_type": "code",
   "execution_count": 35,
   "metadata": {},
   "outputs": [],
   "source": [
    "#Sort DataFrame by total_income\n",
    "credit_score_info = credit_score_info.sort_values('total_income', ascending = True)"
   ]
  },
  {
   "cell_type": "code",
   "execution_count": 36,
   "metadata": {},
   "outputs": [
    {
     "data": {
      "text/plain": [
       "<matplotlib.axes._subplots.AxesSubplot at 0x7f0802b54950>"
      ]
     },
     "execution_count": 36,
     "metadata": {},
     "output_type": "execute_result"
    },
    {
     "data": {
      "image/png": "[encoded data removed]",
      "text/plain": [
       "<Figure size 432x288 with 1 Axes>"
      ]
     },
     "metadata": {
      "needs_background": "light"
     },
     "output_type": "display_data"
    }
   ],
   "source": [
    "#Create box plot to see value distribution for total_income.\n",
    "credit_score_info.boxplot(column='total_income')"
   ]
  },
  {
   "cell_type": "code",
   "execution_count": 37,
   "metadata": {},
   "outputs": [
    {
     "name": "stdout",
     "output_type": "stream",
     "text": [
      "\n",
      "Quartiles for Distribution on Box Plot\n",
      "\n",
      "0.25    17089.75\n",
      "0.50    22866.00\n",
      "0.75    31517.25\n",
      "0.95    53203.50\n",
      "Name: total_income, dtype: float64\n"
     ]
    }
   ],
   "source": [
    "#Calculate the quartiles represented in the box plot.\n",
    "print(\"\\nQuartiles for Distribution on Box Plot\\n\")\n",
    "print(credit_score_info.total_income.quantile([0.25,0.5,0.75, 0.95]))"
   ]
  },
  {
   "cell_type": "code",
   "execution_count": 38,
   "metadata": {},
   "outputs": [],
   "source": [
    "credit_score_info.loc[credit_score_info['total_income'] <= 17090, 'total_income'] = 0\n",
    "credit_score_info.loc[(credit_score_info['total_income'] > 17090) & (credit_score_info['total_income'] <= 31517), 'total_income'] = 1\n",
    "credit_score_info.loc[(credit_score_info['total_income'] > 31517) & (credit_score_info['total_income'] <= 53201), 'total_income'] = 2\n",
    "credit_score_info.loc[credit_score_info['total_income'] > 53201, 'total_income'] = 3"
   ]
  },
  {
   "cell_type": "code",
   "execution_count": 39,
   "metadata": {},
   "outputs": [],
   "source": [
    "credit_score_info.loc[credit_score_info['total_income'] == 0, 'total_income'] = 'Low Income'\n",
    "credit_score_info.loc[credit_score_info['total_income'] == 1, 'total_income'] = 'Medium Income'\n",
    "credit_score_info.loc[credit_score_info['total_income'] == 2, 'total_income'] = 'High Income'\n",
    "credit_score_info.loc[credit_score_info['total_income'] == 3, 'total_income'] = 'Very High Income'"
   ]
  },
  {
   "cell_type": "code",
   "execution_count": 40,
   "metadata": {},
   "outputs": [
    {
     "name": "stdout",
     "output_type": "stream",
     "text": [
      "\n",
      "Income Levels Have Been Categorized. See Value Counts\n",
      "\n",
      "Medium Income       10556\n",
      "Low Income           5281\n",
      "High Income          4223\n",
      "Very High Income     1056\n",
      "Name: total_income, dtype: int64\n"
     ]
    }
   ],
   "source": [
    "print('\\nIncome Levels Have Been Categorized. See Value Counts\\n')\n",
    "print(credit_score_info['total_income'].value_counts())"
   ]
  },
  {
   "cell_type": "markdown",
   "metadata": {},
   "source": [
    "<div class=\"alert alert-success\">\n",
    "\n",
    "### Comment\n",
    "\n",
    "Excellent. Clear names and groups\n",
    "</div>"
   ]
  },
  {
   "cell_type": "code",
   "execution_count": null,
   "metadata": {},
   "outputs": [],
   "source": []
  },
  {
   "cell_type": "code",
   "execution_count": null,
   "metadata": {},
   "outputs": [],
   "source": []
  },
  {
   "cell_type": "code",
   "execution_count": 41,
   "metadata": {},
   "outputs": [],
   "source": [
    "# #This block is to find unique values for family_status. I place all the unique values in a list.\n",
    "# print('\\nUnique Values for Marital Status\\n')\n",
    "# list_family_status = credit_score_info['family_status'].unique().tolist()\n",
    "# print(list_family_status)\n",
    "\n",
    "# #I will map family status with the status' corresponding uppercase letter to clean up the data. To do so I place all unique family_status values in a dictionary and assign them the corresponding uppercase letter using a for loop.\n",
    "# status_dict = {}\n",
    "# for status in list_family_status:\n",
    "#     for i in range(len(list_family_status)) :\n",
    "#         status_dict[status] = status[0].upper()\n",
    "# print(\"\\nDictionary for Family Status\\n\")\n",
    "# print(status_dict)\n",
    "# credit_score_info['family_status'].replace(status_dict, inplace=True)\n",
    "\n",
    "# #This block is to find the unique values for purpose. I place all values in a list.\n",
    "# print('\\nUnique Values for Purpose\\n')\n",
    "# list_Purpose = credit_score_info['purpose'].unique().tolist()\n",
    "# print(list_Purpose)\n",
    "\n",
    "# #This block is to map all purposes with their corresponding uppercase letter in order to clean up the data. This will be done using a dictionary and a for loop, as was done for family_status.\n",
    "# purpose_dict = {}\n",
    "# for purpose in list_Purpose:\n",
    "#     for i in range(len(list_Purpose)) :\n",
    "#         purpose_dict[purpose] = purpose[0].upper()\n",
    "# print(\"\\nDictionary for Purpose\\n\")\n",
    "# print(purpose_dict)\n",
    "# print()\n",
    "# credit_score_info['purpose'].replace(purpose_dict, inplace=True)\n",
    "\n",
    "# #Sort DataFrame by total_income\n",
    "# credit_score_info = credit_score_info.sort_values('total_income', ascending = True)\n",
    "\n",
    "# #Create box plot to see value distribution for total_income.\n",
    "# credit_score_info.boxplot(column='total_income')\n",
    "\n",
    "# #Calculate the quartiles represented in the box plot.\n",
    "# print(\"\\nQuartiles for Distribution on Box Plot\\n\")\n",
    "# print(credit_score_info.total_income.quantile([0.25,0.5,0.75, 0.95]))\n",
    "\n",
    "# credit_score_info.loc[credit_score_info['total_income'] <= 17090, 'total_income'] = 0\n",
    "# credit_score_info.loc[(credit_score_info['total_income'] > 17090) & (credit_score_info['total_income'] <= 31517), 'total_income'] = 1\n",
    "# credit_score_info.loc[(credit_score_info['total_income'] > 31517) & (credit_score_info['total_income'] <= 53201), 'total_income'] = 2\n",
    "# credit_score_info.loc[credit_score_info['total_income'] > 53201, 'total_income'] = 3\n",
    "\n",
    "# credit_score_info.loc[credit_score_info['total_income'] == 0, 'total_income'] = 'Low Income'\n",
    "# credit_score_info.loc[credit_score_info['total_income'] == 1, 'total_income'] = 'Medium Income'\n",
    "# credit_score_info.loc[credit_score_info['total_income'] == 2, 'total_income'] = 'High Income'\n",
    "# credit_score_info.loc[credit_score_info['total_income'] == 3, 'total_income'] = 'Very High Income'\n",
    "\n",
    "# print('\\nIncome Levels Have Been Categorized. See Value Counts\\n')\n",
    "# print(credit_score_info['total_income'].value_counts())\n",
    "\n",
    "\n",
    "\n"
   ]
  },
  {
   "cell_type": "markdown",
   "metadata": {},
   "source": [
    "### Conclusion"
   ]
  },
  {
   "cell_type": "markdown",
   "metadata": {},
   "source": [
    "First I found all the unique values for family_status. In order to clean the data up, I then mapped all the unique values to their relevant uppercase first letters and replaced each family_status value with its corresponding letter. To clean up the purpose section, I also mapped the unique values to their corresponding uppercase letters and replaced each purpose value with its corresponding letter.\n",
    "\n",
    "Since we will need to determine if income type correlates at all with the likelyhood that someone will default on a loan, I wanted to categorize the values according to low, medium, high, and very high incomes. In order to avoid arbitrarily assigning values to each category, I decided to create a box and whisker plot of the values in total_income, which gave a nice representation of the distribution of income. To get the numbers that correspond to the box and whiskers, I used the quantile() method to get the values that correspond with each quantile. Using these numbers, I was able to make an informed decision about which range of incomes should apply to each category. \n",
    "\n",
    "With the quantiles in hand, I then switched the values in total_income to a set integer that correponds with each level of income. I then replaced the integers in each column with their corresponding category of income. I had to do it in this two-step method, becuase I received errors when trying to switch from integer strate to string values using < and >. When doing it this way, after assigning Low Income to values in the lowest quantile, the code crashed as it was not able to compare values in the columns using < or > when some of the values are string and some are integer. By doing the two step method, I was able to bypass this problem."
   ]
  },
  {
   "cell_type": "markdown",
   "metadata": {},
   "source": [
    "### Step 3. Answer these questions"
   ]
  },
  {
   "cell_type": "markdown",
   "metadata": {},
   "source": [
    "- Is there a relation between having kids and repaying a loan on time?"
   ]
  },
  {
   "cell_type": "code",
   "execution_count": 42,
   "metadata": {},
   "outputs": [
    {
     "name": "stdout",
     "output_type": "stream",
     "text": [
      "\n",
      "Ensure that 0 and 1 are only values available for debt\n",
      "\n",
      "0    19377\n",
      "1     1739\n",
      "Name: debt, dtype: int64\n",
      "\n",
      "\n",
      "Table Representing Percentage of Loan Defaults by Number of Children\n",
      "\n",
      "          count   sum percent_debt\n",
      "           debt  debt             \n",
      "children                          \n",
      "0         13872  1062         7.66\n",
      "1          4751   444         9.35\n",
      "2          2115   202         9.55\n",
      "3           329    27         8.21\n",
      "4            40     4        10.00\n",
      "5             9     0         0.00\n"
     ]
    }
   ],
   "source": [
    "print('\\nEnsure that 0 and 1 are only values available for debt\\n')\n",
    "print(credit_score_info['debt'].value_counts())\n",
    "print()\n",
    "\n",
    "#Create pivot table with children as index and the count and sum of debt as values for columns.\n",
    "child_pivot = credit_score_info.pivot_table(index='children', values='debt', aggfunc=['count','sum'])\n",
    "#print(child_pivot)\n",
    "print()\n",
    "\n",
    "\n",
    "#Create new column that calculates the percentage of those who default on loans based on number of children.\n",
    "child_pivot['percent_debt'] = ((child_pivot['sum'] / child_pivot['count']).round(4)) * 100\n",
    "print('Table Representing Percentage of Loan Defaults by Number of Children\\n')\n",
    "print(child_pivot)\n",
    "\n"
   ]
  },
  {
   "cell_type": "markdown",
   "metadata": {},
   "source": [
    "### Conclusion"
   ]
  },
  {
   "cell_type": "markdown",
   "metadata": {},
   "source": [
    "In this section I first ensured that the data up to this point is correctly reflected. This involved taking the value count of values in the debt column. I then created a pivot table with the number of children as the index and the count/sum of the debt values as columns. The count debt column simply represents the number of individuals with values for the field, which is all of those represented in the data. The sum represents the number of those who have defaulted on a loan. \n",
    "\n",
    "I created a new column on the pivot table that represents the percentage of those who have defaulted on a loan for each category (i.e., number of children).\n",
    "\n",
    "From the data, it appears that there is somewhat of a relation between the number of children a person has and the likelyhood that they would default on a loan. In the dataset, those with no children have defaulted on loans the least, percentage wise, and those with 4 children have defaulted on loans the most. There are, however,two datapoints that do not seem to line up. First concerns the number of those with 3 children; the percentage of those with 3 children who have defaulted on a loan is higher than for those without children, yet lower than those with only 2 children and 1 child. Perhaps this is due to there being far fewer individuals who have 3 children and applied for a loan represented in the dataset. The second questionable datapoint is for those with 5 children. Given the trend, you'd expect individuals with 5 children to have at least some percentage of loan defaults; however, the data shows that, of the applicants with 5 children, none have defaulted on a loan previously. This is highly questionable and likely comes down to the sample size. Individuals with 5 children are severly underrepresented in the data, and that likely skews the results.\n",
    "\n",
    "Overall, I'm hesitant to state that there is a strong relation due to the differences in sample size. Clearly, those with 0 children are represented to a much higher degree than those with 5 children. Because of the small sample sizes for those with 4 and 5 children, and perhaps 3, we cannot dinifitively say that there is an actual correlation. Nonetheless, we can draw a loose hypothesis based on the data we have - that is, the fewer children an individual has, the less likely they are to default on a loan.\n"
   ]
  },
  {
   "cell_type": "markdown",
   "metadata": {},
   "source": [
    "<div class=\"alert alert-success\">\n",
    "\n",
    "### Comment\n",
    "\n",
    "All done\n",
    "</div>"
   ]
  },
  {
   "cell_type": "markdown",
   "metadata": {},
   "source": [
    "- Is there a relation between marital status and repaying a loan on time?"
   ]
  },
  {
   "cell_type": "code",
   "execution_count": 43,
   "metadata": {},
   "outputs": [
    {
     "name": "stdout",
     "output_type": "stream",
     "text": [
      "\n",
      "\n",
      "Table Representing Percentage of Loan Defaults by Family Status\n",
      "\n",
      "               count  sum percent_debt\n",
      "                debt debt             \n",
      "family_status                         \n",
      "U               2784  274         9.84\n",
      "C               4124  388         9.41\n",
      "M              12073  929         7.69\n",
      "D               1193   85         7.12\n",
      "W                942   63         6.69\n"
     ]
    }
   ],
   "source": [
    "#Create pivot table with family_status as index and the count and sum of debt as values for columns. \n",
    "family_status_pivot = credit_score_info.pivot_table(index='family_status', values='debt', aggfunc=['count','sum'])\n",
    "print()\n",
    "\n",
    "#Create new column that calculates the percentage of those who default on loans based on family_status. I sort the table by percent_debt descending.\n",
    "family_status_pivot['percent_debt'] = (((family_status_pivot['sum']) / (family_status_pivot['count'])).round(4)) * 100\n",
    "family_status_pivot = family_status_pivot.reindex(family_status_pivot.sort_values(by=('percent_debt'), ascending=False).index)\n",
    "print('\\nTable Representing Percentage of Loan Defaults by Family Status\\n')\n",
    "print(family_status_pivot)\n",
    "\n",
    "\n"
   ]
  },
  {
   "cell_type": "markdown",
   "metadata": {},
   "source": [
    "### Conclusion"
   ]
  },
  {
   "cell_type": "markdown",
   "metadata": {},
   "source": [
    "There does not seem to be any visible relation between family_status and the likelyhood that one repays a loan on time, at least across all statuses examined. From the pivot table, one can see that there is no linear relationship between the number of loan applications for each family status and the percentage of those who have previosly defaulted on a loan. \n",
    "\n",
    "Interestingly though, individuals who have not been previously married or part of a civil relationship have the highest percentage of deafaulting on loans in the dataset, and those who are widows or widowers have the least percentage. I think that to get a better idea of if a strong relationship exists, we would need to have each family status represented to a roughly equal degree in the dataset."
   ]
  },
  {
   "cell_type": "markdown",
   "metadata": {},
   "source": [
    "<div class=\"alert alert-success\">\n",
    "\n",
    "### Comment\n",
    "\n",
    "Yeah, correct\n",
    "</div>"
   ]
  },
  {
   "cell_type": "markdown",
   "metadata": {},
   "source": [
    "- Is there a relation between income level and repaying a loan on time?"
   ]
  },
  {
   "cell_type": "code",
   "execution_count": 44,
   "metadata": {
    "scrolled": true
   },
   "outputs": [
    {
     "name": "stdout",
     "output_type": "stream",
     "text": [
      "\n",
      "\n",
      "Table Representing Percentage of Loan Defaults by Income Level\n",
      "\n",
      "                  count  sum percent_debt\n",
      "                   debt debt             \n",
      "total_income                             \n",
      "Medium Income     10556  946         8.96\n",
      "Low Income         5281  417         7.90\n",
      "High Income        4223  303         7.17\n",
      "Very High Income   1056   73         6.91\n"
     ]
    }
   ],
   "source": [
    "#Create pivot table with total_income as index and the count and sum of debt as values for columns. \n",
    "income_level_pivot = credit_score_info.pivot_table(index='total_income', values='debt', aggfunc=['count','sum'])\n",
    "print()\n",
    "\n",
    "#Create new column that calculates the percentage of those who default on loans based on income_level.\n",
    "income_level_pivot['percent_debt'] = ((income_level_pivot['sum']) / (income_level_pivot['count'])).round(4) * 100\n",
    "income_level_pivot = income_level_pivot.reindex(income_level_pivot.sort_values(by=('percent_debt'), ascending=False).index)\n",
    "print('\\nTable Representing Percentage of Loan Defaults by Income Level\\n')\n",
    "print(income_level_pivot)\n",
    "\n",
    "\n"
   ]
  },
  {
   "cell_type": "markdown",
   "metadata": {},
   "source": [
    "### Conclusion"
   ]
  },
  {
   "cell_type": "markdown",
   "metadata": {},
   "source": [
    "In this section, I created a pivot table to show the total applications by income level and the number of those in each level that defaulted on a loan. I then added a new column to the table that shows the percentage of those in each income level who defaulted on a loan.\n",
    "\n",
    "The data shows that, of all individuals represented in the dataset, those in the medium income bracket have the highest percentage of those who have defaulted on a loan. Those in the very high income bracket appear to have defaulted on loans the least. There is less than one percentage point difference between those who have defaulted on loans in the low income bracket and thsoe in the high income bracket. \n",
    "\n",
    "Again, I hesitate to state that there is a strong relation between income level and those who have previously defaulted on a loan, as those in the medium income bracket are far more heavily represented than those in the other brackets. It might be the case that, in reality, each income level has a roughly equal rate of individuals who have previously defaulted on a loan. From the data, one can see that there is a relationship between the number of applicants in each group and the percentage of those who have previously been in debt. The most represnted group has the highest percentage and the least represted group has the lowest percentage. I would hypothesize that the percentages would slowly converge the closer the dataset gets to equally representing each group."
   ]
  },
  {
   "cell_type": "markdown",
   "metadata": {},
   "source": [
    "<div class=\"alert alert-success\">\n",
    "\n",
    "### Comment\n",
    "\n",
    "Done\n",
    "</div>"
   ]
  },
  {
   "cell_type": "markdown",
   "metadata": {},
   "source": [
    "- How do different loan purposes affect on-time repayment of the loan?"
   ]
  },
  {
   "cell_type": "code",
   "execution_count": 45,
   "metadata": {},
   "outputs": [
    {
     "name": "stdout",
     "output_type": "stream",
     "text": [
      "\n",
      "\n",
      "Table Representing Percentage of Loan Defaults by Loan Purpose\n",
      "\n",
      "         count  sum percent_debt\n",
      "          debt debt             \n",
      "purpose                         \n",
      "C         4270  402         9.41\n",
      "E         3964  370         9.33\n",
      "W         2306  186         8.07\n",
      "P        10576  781         7.38\n"
     ]
    }
   ],
   "source": [
    "#Create pivot table with loan purpose as index and the count and sum of debt as values for columns. \n",
    "loan_purpose_pivot = credit_score_info.pivot_table(index='purpose', values='debt', aggfunc=['count','sum'])\n",
    "print()\n",
    "\n",
    "#Create new column that calculates the percentage of those who default on loans based on loan purpose.\n",
    "loan_purpose_pivot['percent_debt'] = ((loan_purpose_pivot['sum']) / (loan_purpose_pivot['count'])).round(4) * 100\n",
    "loan_purpose_pivot = loan_purpose_pivot.reindex(loan_purpose_pivot.sort_values(by=('percent_debt'), ascending=False).index)\n",
    "print('\\nTable Representing Percentage of Loan Defaults by Loan Purpose\\n')\n",
    "print(loan_purpose_pivot)\n"
   ]
  },
  {
   "cell_type": "markdown",
   "metadata": {},
   "source": [
    "### Conclusion"
   ]
  },
  {
   "cell_type": "markdown",
   "metadata": {},
   "source": [
    "As with the previous tasks, I created a pivot table using the loan purpose values as the index. The count of those in each group and the sum of those in each group who have previously defaulted on a loan are represented in two columns. I also added a new column that represents the percentage of individuals in each group that have previosuly defaulted on a loan.\n",
    "\n",
    "The data suggests that those who apply for a loan for purchasing property are least likely to default on a loan than those who apply for a loan for the other purposes represented. Alternatively, those who take out a loan for a car purchase seem most likely, based on the data, to default on a loan. \n",
    "\n",
    "In this case, we cannot simply state that unequal representation of individuals applying for loans for each purpose is preventing a linear relationship from appearing. The most represented group in the data has the smallest percentage of those who have previosly defaulted on a loan, but the group with the second smallest percentage (i.e., those taking out a loan for a wedding) is the least represented group in the data. \n",
    "\n",
    "Perhaps those reviewing bank loans can, from the data, assume that there is a smaller risk of providing loans to those who with to use it to purchase property than to those who with to use it to purchase a car or obtain higher education."
   ]
  },
  {
   "cell_type": "markdown",
   "metadata": {},
   "source": [
    "<div class=\"alert alert-success\">\n",
    "\n",
    "### Comment\n",
    "\n",
    "Excellent\n",
    "</div>"
   ]
  },
  {
   "cell_type": "markdown",
   "metadata": {},
   "source": [
    "### Step 4. General conclusion"
   ]
  },
  {
   "cell_type": "markdown",
   "metadata": {},
   "source": [
    "The bulk of this project involved preprocessing data. This involved not only deleting duplicate rows, reformatting data types, and categorizing data, but also filling in missing and inaccurate values. Perhaps the most time-consuming of these steps was filling in missing values. The following are short descriptions of columns I filled missing values for and how I went about it.\n",
    "\n",
    "total_income - Filled with median values of income based on employment status.\n",
    "dob_years - Filled with mean age based on employment status.\n",
    "days_employed - Filled by mean of days_employed for each age. \n",
    "\n",
    "When categorizing the data, the most important step I found was organizing incomes into different levels. To do so without arbitrarily chosing values, I created a box and whisker plot to visualize the distribution of total_income for each applicant. I then obtained the values for important quartiles represented in the data and organized total_income into categories based on the quartiles. This allowed me to distinguish between low, medium, high, and very high income individuals. \n",
    "\n",
    "Overall, the clearest relationship I found between one parameter and likelyhood that an individual will default on a loan is based on the number of children an individual has. Those with no children appear less likely than those with more children to default on a loan. This observation, however, is not without its exceptions - for example, people with 3 children seem to not follow the observed trend. I hypothesize that this is due to the unequal represtation of each group in the data.\n",
    "\n",
    "While I believe that unequal represntation of data affected each analysis carried out, by purely relying on the data we have, someone processing loan applications might interpret the results of each analysis as follows:\n",
    "\n",
    "1) The greater the number of children one has, the more likely they are to default on a loan.\n",
    "\n",
    "2) Regarding family status, those who are unmarried are most likely to default on a loan while those who are widows or widowers are least likely.\n",
    "\n",
    "3) With regard to income bracket, those in the medium bracket are most likely to default on a loan, while those in the very high bracket are least likely. \n",
    "\n",
    "4) Regarding loan purpose, those who apply for a loan to purchase a vechile are most likely to default on a loan, while those who apply for a loan to purchase property are least likely.\n",
    "\n",
    "Given this information, I would argue that those processing loan applications should first look at the number of children an individual has when determining whether it is safe to offer an individual a loan. The most high-risk loans from this data would be to those who have a high number of children, are unmarried, are in the medium income bracket, and wish to use the loan to purchase a vehicle. "
   ]
  },
  {
   "cell_type": "markdown",
   "metadata": {},
   "source": [
    "<div class=\"alert alert-success\">\n",
    "\n",
    "### Comment\n",
    "\n",
    "Well done!\n",
    "</div>"
   ]
  },
  {
   "cell_type": "markdown",
   "metadata": {},
   "source": [
    "### Project Readiness Checklist\n",
    "\n",
    "Put 'x' in the completed points. Then press Shift + Enter."
   ]
  },
  {
   "cell_type": "markdown",
   "metadata": {},
   "source": [
    "- [x]  file open;\n",
    "- [x]  file examined;\n",
    "- [x]  missing values defined;\n",
    "- [x]  missing values are filled;\n",
    "- [x]  an explanation of which missing value types were detected;\n",
    "- [x]  explanation for the possible causes of missing values;\n",
    "- [x]  an explanation of how the blanks are filled;\n",
    "- [x]  replaced the real data type with an integer;\n",
    "- [x]  an explanation of which method is used to change the data type and why;\n",
    "- [x]  duplicates deleted;\n",
    "- [x]  an explanation of which method is used to find and remove duplicates;\n",
    "- [x]  description of the possible reasons for the appearance of duplicates in the data;\n",
    "- [x]  data is categorized;\n",
    "- [x]  an explanation of the principle of data categorization;\n",
    "- [x]  an answer to the question \"Is there a relation between having kids and repaying a loan on time?\";\n",
    "- [x]  an answer to the question \" Is there a relation between marital status and repaying a loan on time?\";\n",
    "- [x]  an answer to the question \" Is there a relation between income level and repaying a loan on time?\";\n",
    "- [x]  an answer to the question \" How do different loan purposes affect on-time repayment of the loan?\"\n",
    "- [x]  conclusions are present on each stage;\n",
    "- [x]  a general conclusion is made."
   ]
  },
  {
   "cell_type": "code",
   "execution_count": null,
   "metadata": {},
   "outputs": [],
   "source": []
  }
 ],
 "metadata": {
  "kernelspec": {
   "display_name": "Python 3",
   "language": "python",
   "name": "python3"
  },
  "language_info": {
   "codemirror_mode": {
    "name": "ipython",
    "version": 3
   },
   "file_extension": ".py",
   "mimetype": "text/x-python",
   "name": "python",
   "nbconvert_exporter": "python",
   "pygments_lexer": "ipython3",
   "version": "3.8.5"
  }
 },
 "nbformat": 4,
 "nbformat_minor": 2
}
